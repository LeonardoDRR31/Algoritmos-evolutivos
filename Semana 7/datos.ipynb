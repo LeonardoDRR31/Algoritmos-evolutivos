{
 "cells": [
  {
   "cell_type": "markdown",
   "id": "4f2c123e",
   "metadata": {},
   "source": [
    "Importamos la librerías"
   ]
  },
  {
   "cell_type": "code",
   "execution_count": null,
   "id": "17ca040a",
   "metadata": {},
   "outputs": [],
   "source": [
    "# 📌 Celda 1: Importar librerías\n",
    "import pandas as pd\n",
    "import plotly.express as px\n",
    "import plotly.graph_objects as go\n",
    "\n",
    "# Configurar Pandas para mostrar bien la s6alida\n",
    "pd.set_option('display.max_columns', None)\n",
    "pd.set_option('display.width', None)"
   ]
  },
  {
   "cell_type": "code",
   "execution_count": null,
   "id": "c83c90d5",
   "metadata": {},
   "outputs": [],
   "source": [
    "# 📌 Celda 2: Leer el archivo CSV\n",
    "df = pd.read_csv(\"notas_1u.csv\")\n",
    "df.head()\n"
   ]
  },
  {
   "cell_type": "code",
   "execution_count": null,
   "id": "0029dd38",
   "metadata": {},
   "outputs": [],
   "source": [
    "# 📌 Celda 3: Calcular estadísticas por tipo de examen\n",
    "stats = df.groupby(\"Tipo_Examen\")[\"Nota\"].agg(\n",
    "    count='count',\n",
    "    mean='mean',\n",
    "    median='median',\n",
    "    mode=lambda x: x.mode().iloc[0] if not x.mode().empty else None,\n",
    "    std='std',\n",
    "    var='var',\n",
    "    min='min',\n",
    "    max='max',\n",
    "    rango=lambda x: x.max() - x.min()\n",
    ").sort_values(by=\"mean\", ascending=False)\n",
    "\n",
    "display(stats)\n",
    "\n",
    "# Mostrar cuál fue el examen más fácil\n",
    "tipo_mas_facil = stats[\"mean\"].idxmax()\n",
    "print(f\"🏆 El tipo de examen con mejor promedio fue: {tipo_mas_facil}\")\n"
   ]
  },
  {
   "cell_type": "code",
   "execution_count": null,
   "id": "fd3901fd",
   "metadata": {},
   "outputs": [],
   "source": [
    "# 📌 Celda 4: Boxplot interactivo\n",
    "fig_box = px.box(df, x=\"Tipo_Examen\", y=\"Nota\", color=\"Tipo_Examen\",\n",
    "                 title=\"Distribución de Notas por Tipo de Examen (Boxplot)\",\n",
    "                 labels={\"Nota\": \"Nota\", \"Tipo_Examen\": \"Tipo de Examen\"})\n",
    "fig_box.update_layout(boxmode='group')\n",
    "fig_box.show()\n"
   ]
  },
  {
   "cell_type": "code",
   "execution_count": null,
   "id": "f6e77fe7",
   "metadata": {},
   "outputs": [],
   "source": [
    "# 📌 Celda 5: Violinplot interactivo\n",
    "fig_violin = px.violin(df, x=\"Tipo_Examen\", y=\"Nota\", color=\"Tipo_Examen\", box=True, points=\"all\",\n",
    "                       title=\"Distribución de Notas por Tipo de Examen (Violin Plot)\",\n",
    "                       labels={\"Nota\": \"Nota\", \"Tipo_Examen\": \"Tipo de Examen\"})\n",
    "fig_violin.show()\n"
   ]
  },
  {
   "cell_type": "code",
   "execution_count": null,
   "id": "b2b87a3f",
   "metadata": {},
   "outputs": [],
   "source": [
    "# Crear columna 'Aprobado'\n",
    "df[\"Aprobado\"] = df[\"Nota\"].apply(lambda x: 1 if x >= 11 else 0)\n",
    "\n",
    "# Crear columna 'Desempeño'\n",
    "def clasificar_desempeño(nota):\n",
    "    if nota < 13:\n",
    "        return \"Bajo\"\n",
    "    elif nota <= 16:\n",
    "        return \"Medio\"\n",
    "    else:\n",
    "        return \"Alto\"\n",
    "\n",
    "df[\"Desempeño\"] = df[\"Nota\"].apply(clasificar_desempeño)\n",
    "\n",
    "# Mostrar resultados\n",
    "df.head()\n"
   ]
  },
  {
   "cell_type": "code",
   "execution_count": null,
   "id": "aa357602",
   "metadata": {},
   "outputs": [],
   "source": [
    "# ¿Cuántos aprobaron y cuántos no?\n",
    "aprobados = df[\"Aprobado\"].value_counts()\n",
    "print(\"✔️ Aprobados vs Desaprobados:\")\n",
    "print(aprobados)\n",
    "\n",
    "# ¿Cuántos estudiantes tienen cada tipo de desempeño?\n",
    "print(\"\\n📈 Clasificación por Desempeño:\")\n",
    "print(df[\"Desempeño\"].value_counts())\n"
   ]
  },
  {
   "cell_type": "code",
   "execution_count": null,
   "id": "7ef2b346",
   "metadata": {},
   "outputs": [],
   "source": [
    "\n",
    "# Gráfico de barras: conteo por desempeño\n",
    "fig = px.histogram(df, x=\"Desempeño\", color=\"Desempeño\", title=\"Distribución de Desempeño de Estudiantes\")\n",
    "fig.show()\n"
   ]
  },
  {
   "cell_type": "code",
   "execution_count": 49,
   "id": "c6426ae3",
   "metadata": {},
   "outputs": [],
   "source": [
    "\n",
    "# Obtener los tipos de examen únicos (A, B, C)\n",
    "tipos_examen = df[\"Tipo_Examen\"].unique()\n",
    "\n",
    "# Crear una lista para guardar las figuras\n",
    "figs = []\n",
    "\n",
    "# Crear un gráfico circular para cada tipo de examen\n",
    "for tipo in tipos_examen:\n",
    "    grupo = df[df[\"Tipo_Examen\"] == tipo]\n",
    "    cuenta = grupo[\"Aprobado\"].value_counts().sort_index()\n",
    "\n",
    "    # Etiquetas para la leyenda\n",
    "    labels = [\"Desaprobado\", \"Aprobado\"]\n",
    "    values = [cuenta.get(0, 0), cuenta.get(1, 0)]\n",
    "\n",
    "    fig = go.Figure(\n",
    "        go.Pie(\n",
    "            labels=labels,\n",
    "            values=values,\n",
    "            hole=0.4,\n",
    "            textinfo='label+percent',\n",
    "            title=f\"Examen {tipo}\"\n",
    "        )\n",
    "    )\n",
    "\n",
    "    fig.update_layout(title_text=f\"📊 Aprobados vs Desaprobados - Tipo de Examen {tipo}\")\n",
    "    figs.append(fig)\n"
   ]
  },
  {
   "cell_type": "code",
   "execution_count": null,
   "id": "1259d29a",
   "metadata": {},
   "outputs": [],
   "source": [
    "# Mostrar los 3 gráficos uno por uno\n",
    "for fig in figs:\n",
    "    fig.show()"
   ]
  }
 ],
 "metadata": {
  "kernelspec": {
   "display_name": "Python 3",
   "language": "python",
   "name": "python3"
  },
  "language_info": {
   "codemirror_mode": {
    "name": "ipython",
    "version": 3
   },
   "file_extension": ".py",
   "mimetype": "text/x-python",
   "name": "python",
   "nbconvert_exporter": "python",
   "pygments_lexer": "ipython3",
   "version": "3.10.6"
  }
 },
 "nbformat": 4,
 "nbformat_minor": 5
}
